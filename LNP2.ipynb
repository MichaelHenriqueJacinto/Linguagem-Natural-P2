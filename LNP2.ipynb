{
 "metadata": {
  "language_info": {
   "codemirror_mode": {
    "name": "ipython",
    "version": 3
   },
   "file_extension": ".py",
   "mimetype": "text/x-python",
   "name": "python",
   "nbconvert_exporter": "python",
   "pygments_lexer": "ipython3",
   "version": "3.8.5"
  },
  "orig_nbformat": 2,
  "kernelspec": {
   "name": "python385jvsc74a57bd04b49143045b77bc3480d9f3d9e48406c091dcf6a587fcded00b3eee9e4b31548",
   "display_name": "Python 3.8.5 64-bit ('base': conda)"
  },
  "metadata": {
   "interpreter": {
    "hash": "00c2d7f58209d28d00450bdef544a4ebf0f3b64b0371f6bc30bfdc78bcb5040f"
   }
  }
 },
 "nbformat": 4,
 "nbformat_minor": 2,
 "cells": [
  {
   "cell_type": "code",
   "execution_count": 5,
   "metadata": {},
   "outputs": [],
   "source": [
    "import pandas as pd\n",
    "from sklearn.model_selection import train_test_split\n",
    "from sklearn.linear_model import LogisticRegression\n",
    "from sklearn.feature_extraction.text import CountVectorizer\n",
    "from wordcloud import WordCloud\n",
    "import matplotlib.pyplot as plt\n",
    "import seaborn as sns\n",
    "import nltk\n"
   ]
  },
  {
   "cell_type": "code",
   "execution_count": 6,
   "metadata": {},
   "outputs": [
    {
     "output_type": "stream",
     "name": "stdout",
     "text": [
      "(49459, 50)\n",
      "0.6583097452486858\n"
     ]
    }
   ],
   "source": [
    "resenha = pd.read_csv(\"c:/imdb-reviews-pt-br.csv\")\n",
    "\n",
    "treino, teste, classe_treino, classe_teste, = train_test_split(resenha.text_pt,\n",
    "resenha.sentiment, random_state = 42)\n",
    "\n",
    "classificacao = resenha[\"sentiment\"].replace(['neg','pos'], [0, 1])\n",
    "resenha[\"classificacao\"] = classificacao\n",
    "\n",
    "texto = [\"Assisti um filme [ótimo\", \"Assisti um filme ruim\"]\n",
    "\n",
    "vetorizar = CountVectorizer(lowercase=False)\n",
    "bag_of_words = vetorizar.fit_transform(texto)  # Vetorizando todos os comentários e vetorizando-os.\n",
    "bag_of_words\n",
    "\n",
    "vetorizar = CountVectorizer(lowercase = False, max_features = 50)\n",
    "bag_of_words = vetorizar.fit_transform(resenha.text_pt)\n",
    "print(bag_of_words.shape)\n",
    "\n",
    "def Classificar_texto(texto, coluna_texto, coluna_classificacao):\n",
    "    vetorizar = CountVectorizer(lowercase = False, max_features = 50)\n",
    "    bag_of_words = vetorizar.fit_transform(texto[coluna_texto])\n",
    "\n",
    "    treino, teste, classe_treino, classe_teste, = train_test_split(bag_of_words,\n",
    "    texto[coluna_classificacao], random_state = 42)\n",
    "\n",
    "    regressao_logistica = LogisticRegression()\n",
    "    regressao_logistica.fit(treino, classe_treino)\n",
    "    return regressao_logistica.score(teste, classe_teste)\n",
    "print(Classificar_texto(resenha, \"text_pt\", \"classificacao\"))\n",
    "\n",
    "todas_palavras = ' '.join([texto for texto in resenha.text_pt])\n",
    "\n",
    "nuvem_palavras = WordCloud().generate(todas_palavras)\n",
    "\n",
    "def nuvem_palavras_neg(texto, coluna_texto):\n",
    "    texto_negativo = texto.query(\"sentiment == 'neg'\")    \n",
    "    todas_palavras = ' '.join([texto for texto in texto_negativo[coluna_texto]])\n",
    "\n",
    "    nuvem_palavras = WordCloud(width = 800, height = 500,\n",
    "    max_font_size = 110, collocations = False).generate(todas_palavras)\n",
    "\n",
    "    plt.figure(figsize = (10, 7))\n",
    "    plt.imshow(nuvem_palavras, interpolation = 'bilinear')\n",
    "    plt.axis(\"off\")\n",
    "    plt.show()\n",
    "    \n",
    "def nuvem_palavras_pos(texto, coluna_texto):\n",
    "    texto_positivo = texto.query(\"sentiment == 'pos'\")    \n",
    "    todas_palavras = ' '.join([texto for texto in texto_positivo[coluna_texto]])\n",
    "\n",
    "    nuvem_palavras = WordCloud(width = 800, height = 500,\n",
    "    max_font_size = 110, collocations = False).generate(todas_palavras)\n",
    "\n",
    "    plt.figure(figsize = (10, 7))\n",
    "    plt.imshow(nuvem_palavras, interpolation = 'bilinear')\n",
    "    plt.axis(\"off\")\n",
    "    plt.show()"
   ]
  },
  {
   "cell_type": "code",
   "execution_count": null,
   "metadata": {},
   "outputs": [],
   "source": []
  }
 ]
}